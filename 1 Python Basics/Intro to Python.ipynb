{
 "cells": [
  {
   "cell_type": "markdown",
   "id": "68464361",
   "metadata": {},
   "source": [
    "# Intro to Python\n",
    "\n",
    "We can write markdown and python code here. ctrl+enter to execute"
   ]
  },
  {
   "cell_type": "code",
   "execution_count": 13,
   "id": "c13101b8",
   "metadata": {},
   "outputs": [
    {
     "name": "stdout",
     "output_type": "stream",
     "text": [
      "11,12\n",
      "13\n"
     ]
    }
   ],
   "source": [
    "a=11\n",
    "print(a,end=\",\")\n",
    "print(12)\n",
    "print(13);"
   ]
  },
  {
   "cell_type": "code",
   "execution_count": 15,
   "id": "2017a784",
   "metadata": {},
   "outputs": [
    {
     "name": "stdout",
     "output_type": "stream",
     "text": [
      "12.3\n"
     ]
    }
   ],
   "source": [
    "a=12\n",
    "a=12.3\n",
    "print(a)\n"
   ]
  },
  {
   "cell_type": "code",
   "execution_count": 16,
   "id": "6a1bfce2",
   "metadata": {},
   "outputs": [
    {
     "name": "stdout",
     "output_type": "stream",
     "text": [
      "12.3\n"
     ]
    }
   ],
   "source": [
    "print(a)"
   ]
  },
  {
   "cell_type": "code",
   "execution_count": 18,
   "id": "61776d3a",
   "metadata": {},
   "outputs": [
    {
     "name": "stdout",
     "output_type": "stream",
     "text": [
      "1.7142857142857142\n",
      "1\n"
     ]
    }
   ],
   "source": [
    "x=12\n",
    "y=7\n",
    "print(x/y)\n",
    "print(x//y)"
   ]
  },
  {
   "cell_type": "code",
   "execution_count": 13,
   "id": "1e077ee1-550a-4d89-bb32-609da50b9f99",
   "metadata": {
    "tags": []
   },
   "outputs": [
    {
     "name": "stdout",
     "output_type": "stream",
     "text": [
      "This is a string and it is immutable\n",
      "36\n",
      "<class 'str'>\n",
      "T\n",
      "This is a string and it is immutable right\n"
     ]
    }
   ],
   "source": [
    "a=\"This is a string and it is immutable\"\n",
    "print(a)\n",
    "print(len(a))\n",
    "print(type(a))\n",
    "print(a[0])\n",
    "print(a+\" right\");"
   ]
  },
  {
   "cell_type": "code",
   "execution_count": 5,
   "id": "a8571ab4-ea5a-40d5-846f-23beec5b0299",
   "metadata": {
    "tags": []
   },
   "outputs": [],
   "source": [
    "#there are some methods on string"
   ]
  },
  {
   "cell_type": "code",
   "execution_count": 7,
   "id": "a66a427f-c32a-4f95-99e3-4b07b05ea3bc",
   "metadata": {
    "tags": []
   },
   "outputs": [
    {
     "name": "stdin",
     "output_type": "stream",
     "text": [
      " 22\n"
     ]
    },
    {
     "name": "stdout",
     "output_type": "stream",
     "text": [
      "<class 'int'>\n"
     ]
    }
   ],
   "source": [
    "#taking input\n",
    "\n",
    "a=int(input());\n",
    "print(type(a));"
   ]
  },
  {
   "cell_type": "code",
   "execution_count": 10,
   "id": "d599e451-7131-4657-8ea5-61e6bbfea1ed",
   "metadata": {
    "tags": []
   },
   "outputs": [
    {
     "name": "stdout",
     "output_type": "stream",
     "text": [
      "hello\n",
      "hello world\n",
      "hello wo\n"
     ]
    }
   ],
   "source": [
    "#slicing\n",
    "\n",
    "a=\"hello world\"\n",
    "print(a[0:5])\n",
    "print(a[0:])\n",
    "print(a[:8])"
   ]
  },
  {
   "cell_type": "code",
   "execution_count": 14,
   "id": "0b2868ce-9d2c-4b42-8ef6-5d014d188468",
   "metadata": {
    "tags": []
   },
   "outputs": [
    {
     "name": "stdout",
     "output_type": "stream",
     "text": [
      "<class 'tuple'>\n",
      "True\n"
     ]
    }
   ],
   "source": [
    "#tupple is immutable and even slicing works\n",
    "t=(1,\"hello\",2)\n",
    "print(type(t))\n",
    "print(1 in t);\n"
   ]
  },
  {
   "cell_type": "code",
   "execution_count": 16,
   "id": "4386f63c-422a-47de-92fb-3d3991f88225",
   "metadata": {
    "tags": []
   },
   "outputs": [
    {
     "name": "stdout",
     "output_type": "stream",
     "text": [
      "True\n"
     ]
    }
   ],
   "source": [
    "#we have boolean variable in python and all the operators\n",
    "a=True;\n",
    "print(a)"
   ]
  },
  {
   "cell_type": "code",
   "execution_count": null,
   "id": "90cc1f13-0bec-4f89-b413-0ca5be4cbbb8",
   "metadata": {},
   "outputs": [],
   "source": [
    "#indentation matters in python"
   ]
  },
  {
   "cell_type": "code",
   "execution_count": 29,
   "id": "211a278f-1040-461e-8679-ed7226e7debb",
   "metadata": {
    "tags": []
   },
   "outputs": [
    {
     "name": "stdout",
     "output_type": "stream",
     "text": [
      "0 1 2 3 4 done printing\n",
      "2 4 6 8 \n",
      "v a l u e "
     ]
    }
   ],
   "source": [
    "#loops\n",
    "\n",
    "i=0;\n",
    "while(i<5):\n",
    " print(i,end=\" \");\n",
    " i=i+1;\n",
    "print(\"done printing\")\n",
    "\n",
    "for i in range(2,10,2):\n",
    "    print(i,end=\" \")\n",
    "\n",
    "print(\"\");\n",
    "a='value';\n",
    "for it in a:\n",
    "    print(it,end=\" \");"
   ]
  },
  {
   "cell_type": "code",
   "execution_count": 32,
   "id": "11645edd-b785-4d4a-aa65-37a231183f7f",
   "metadata": {
    "tags": []
   },
   "outputs": [
    {
     "name": "stdout",
     "output_type": "stream",
     "text": [
      "21\n"
     ]
    }
   ],
   "source": [
    "#functions in python\n",
    "\n",
    "\n",
    "def sum(x,y):\n",
    "    return x+y,x-y\n",
    "\n",
    "x=10\n",
    "y=11;\n",
    "print(sum(x,y)[0])"
   ]
  },
  {
   "cell_type": "code",
   "execution_count": 4,
   "id": "2b5faf7e-3bc4-4627-b260-94bffe0f3bcb",
   "metadata": {
    "tags": []
   },
   "outputs": [
    {
     "name": "stdout",
     "output_type": "stream",
     "text": [
      "4\n",
      "[0, 1, 2, 3, 4, 5, 6, 7, 8, 9]\n",
      "<class 'list'>\n",
      "<class 'list'>\n",
      "helo\n",
      "[]\n"
     ]
    }
   ],
   "source": [
    "#Arrays\n",
    "a=[1,\"helo\",3,4]\n",
    "x=[['1','2','3'],[4,5,6]]\n",
    "print(x[1][0])\n",
    "b=list(a)\n",
    "\n",
    "\n",
    "#another way of creating array\n",
    "array=[i for i in range(10)]\n",
    "print(array)\n",
    "\n",
    "print(type(a))\n",
    "print(type(b))\n",
    "\n",
    "print(a[1])\n",
    "del a[0:4]\n",
    "\n",
    "print(a)\n",
    "\n",
    "#even slicing works,methods like append(value),insert(pos,value) works fine,for deleting we have pop(),pop(index),remove(value)"
   ]
  },
  {
   "cell_type": "code",
   "execution_count": 44,
   "id": "29b75fd1-d7c2-4743-86e5-2529061388d0",
   "metadata": {
    "tags": []
   },
   "outputs": [
    {
     "name": "stdout",
     "output_type": "stream",
     "text": [
      "{23: 44, 'h': 9}\n",
      "{44: 3, 43: 5}\n"
     ]
    }
   ],
   "source": [
    "#dictonaries\n",
    "d={};\n",
    "d[23]=44\n",
    "d[\"h\"]=9\n",
    "\n",
    "p={44:3,43:5}\n",
    "\n",
    "print(d)\n",
    "print(p)"
   ]
  }
 ],
 "metadata": {
  "kernelspec": {
   "display_name": "Python 3 (ipykernel)",
   "language": "python",
   "name": "python3"
  },
  "language_info": {
   "codemirror_mode": {
    "name": "ipython",
    "version": 3
   },
   "file_extension": ".py",
   "mimetype": "text/x-python",
   "name": "python",
   "nbconvert_exporter": "python",
   "pygments_lexer": "ipython3",
   "version": "3.11.4"
  }
 },
 "nbformat": 4,
 "nbformat_minor": 5
}
