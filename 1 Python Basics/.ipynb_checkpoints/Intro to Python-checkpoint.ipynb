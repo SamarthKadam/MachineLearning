{
 "cells": [
  {
   "cell_type": "markdown",
   "id": "68464361",
   "metadata": {},
   "source": [
    "# Intro to Python\n",
    "\n",
    "We can write markdown and python code here. ctrl+enter to execute"
   ]
  },
  {
   "cell_type": "code",
   "execution_count": 13,
   "id": "c13101b8",
   "metadata": {},
   "outputs": [
    {
     "name": "stdout",
     "output_type": "stream",
     "text": [
      "11,12\n",
      "13\n"
     ]
    }
   ],
   "source": [
    "a=11\n",
    "print(a,end=\",\")\n",
    "print(12)\n",
    "print(13);"
   ]
  },
  {
   "cell_type": "code",
   "execution_count": 15,
   "id": "2017a784",
   "metadata": {},
   "outputs": [
    {
     "name": "stdout",
     "output_type": "stream",
     "text": [
      "12.3\n"
     ]
    }
   ],
   "source": [
    "a=12\n",
    "a=12.3\n",
    "print(a)\n"
   ]
  },
  {
   "cell_type": "code",
   "execution_count": 16,
   "id": "6a1bfce2",
   "metadata": {},
   "outputs": [
    {
     "name": "stdout",
     "output_type": "stream",
     "text": [
      "12.3\n"
     ]
    }
   ],
   "source": [
    "print(a)"
   ]
  },
  {
   "cell_type": "code",
   "execution_count": 18,
   "id": "61776d3a",
   "metadata": {},
   "outputs": [
    {
     "name": "stdout",
     "output_type": "stream",
     "text": [
      "1.7142857142857142\n",
      "1\n"
     ]
    }
   ],
   "source": [
    "x=12\n",
    "y=7\n",
    "print(x/y)\n",
    "print(x//y)"
   ]
  }
 ],
 "metadata": {
  "kernelspec": {
   "display_name": "Python 3 (ipykernel)",
   "language": "python",
   "name": "python3"
  },
  "language_info": {
   "codemirror_mode": {
    "name": "ipython",
    "version": 3
   },
   "file_extension": ".py",
   "mimetype": "text/x-python",
   "name": "python",
   "nbconvert_exporter": "python",
   "pygments_lexer": "ipython3",
   "version": "3.11.4"
  }
 },
 "nbformat": 4,
 "nbformat_minor": 5
}
